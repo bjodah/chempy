{
 "cells": [
  {
   "cell_type": "markdown",
   "metadata": {},
   "source": [
    "# System of non-linear equations - Coupled chemical equilibria\n",
    "Author: Björn Dahlgren, Applied Physcial Chemistry, KTH Royal Insitiute of Technology\n",
    "\n",
    "In this example we will study the equilibria between aqueous cupric ions and ammonia.\n",
    "We will use [ChemPy](https://github.com/bjodah/chempy) which is a Python package collecting functions and classes useful for chemistry related problems. We will also make use of SymPy for manipulating and inspecting the formulae encountered."
   ]
  },
  {
   "cell_type": "code",
   "execution_count": null,
   "metadata": {},
   "outputs": [],
   "source": [
    "%load_ext autoreload\n",
    "%autoreload 2"
   ]
  },
  {
   "cell_type": "code",
   "execution_count": null,
   "metadata": {},
   "outputs": [],
   "source": [
    "from collections import defaultdict\n",
    "from chempy import atomic_number\n",
    "from chempy.chemistry import Species, Equilibrium\n",
    "from chempy.equilibria import EqSystem, NumSysLin, NumSysLog, NumSysSquare\n",
    "from chempy.units import rescale, default_units as u\n",
    "from IPython.display import Latex, display\n",
    "import matplotlib.pyplot as plt\n",
    "%matplotlib inline\n",
    "def show(s):  # convenience function\n",
    "    display(Latex('$'+s+'$'))\n",
    "import sympy; import chempy; print('SymPy: %s, ChemPy: %s' % (sympy.__version__, chempy.__version__))"
   ]
  },
  {
   "cell_type": "code",
   "execution_count": null,
   "metadata": {},
   "outputs": [],
   "source": [
    "#from IPython.core.display import display, HTML\n",
    "from IPython.display import display, HTML\n",
    "display(HTML(\"<style>.container { width:95% !important; }</style>\"))\n",
    "if False:\n",
    "    display(HTML('''<style>\n",
    ".prompt{%(hide)s}\n",
    ".prompt_container{%(hide)s}\n",
    ".prompt.input_prompt{%(hide)s}\n",
    ".out_prompt_overlay.prompt{%(hide)s}\n",
    "</style>''' % dict(hide=\"width: 0px; min-width: 0px; visibility: collapse\")))"
   ]
  },
  {
   "cell_type": "markdown",
   "metadata": {},
   "source": [
    "Let's define our species with names and composition, ChemPy can parse chemical formulae:"
   ]
  },
  {
   "cell_type": "code",
   "execution_count": null,
   "metadata": {},
   "outputs": [],
   "source": [
    "NH3_complexes = ['CuNH3+2', 'Cu(NH3)2+2', 'Cu(NH3)3+2', 'Cu(NH3)4+2', 'Cu(NH3)5+2']\n",
    "OH_complexes = ['Cu2(OH)2+2', 'Cu(OH)3-', 'Cu(OH)4-2']\n",
    "substances = [\n",
    "    Species.from_formula(n) for n in ['H+', 'OH-', 'NH4+', 'NH3', 'H2O', 'Cu+2'] + \n",
    "        NH3_complexes + OH_complexes + ['Cu(OH)2(s)']\n",
    "] #, CuOHp, CuOH2,\n",
    "ionic_radii = {\n",
    "    'NH4+': 2.5*u.angstrom,\n",
    "    'H+': 9*u.angstrom,\n",
    "    'OH-': 3.5*u.angstrom,\n",
    "    'Cu+2': 6*u.angstrom,\n",
    "} # Kielland (1937)\n",
    "for substance in substances:\n",
    "    if substance.charge != 0:\n",
    "        substance.data['ionic_radius'] = rescale(ionic_radii['Cu+2' if substance.name.startswith('Cu') else substance.name], u.m)\n",
    "substance_names = [s.name for s in substances]"
   ]
  },
  {
   "cell_type": "markdown",
   "metadata": {},
   "source": [
    "Let's see how the species are pretty-printed:"
   ]
  },
  {
   "cell_type": "code",
   "execution_count": null,
   "metadata": {},
   "outputs": [],
   "source": [
    "show(', '.join([s.latex_name for s in substances]))"
   ]
  },
  {
   "cell_type": "markdown",
   "metadata": {},
   "source": [
    "Let's define some initial concentrations. We will consider different amount of added ammonia in 10 mM solutions of $Cu^{2+}$:"
   ]
  },
  {
   "cell_type": "code",
   "execution_count": null,
   "metadata": {},
   "outputs": [],
   "source": [
    "init_conc = defaultdict(float, {'H+': 1e-7, 'OH-': 1e-7, 'NH4+': 0,\n",
    "                                'NH3': 1.0, 'Cu+2': 1e-2, 'H2O': 55.5})"
   ]
  },
  {
   "cell_type": "markdown",
   "metadata": {},
   "source": [
    "Now, let us define the equilibria, data are from course material at Applied Physcial Chemistry, KTH Royal Insitiute of Technology."
   ]
  },
  {
   "cell_type": "code",
   "execution_count": null,
   "metadata": {},
   "outputs": [],
   "source": [
    "H2O_c = init_conc['H2O']\n",
    "w_autop = Equilibrium({'H2O': 1}, {'H+': 1, 'OH-': 1}, 10**-14/H2O_c)\n",
    "NH4p_pr = Equilibrium({'NH4+': 1}, {'H+': 1, 'NH3': 1}, 10**-9.26)\n",
    "CuOH2_s = Equilibrium({'Cu(OH)2(s)': 1}, {'Cu+2': 1, 'OH-': 2}, 10**-18.8)\n",
    "CuOH_B3 = Equilibrium({'Cu(OH)2(s)': 1, 'OH-': 1}, {'Cu(OH)3-': 1}, 10**-3.6)\n",
    "CuOH_B4 = Equilibrium({'Cu(OH)2(s)': 1, 'OH-': 2}, {'Cu(OH)4-2': 1}, 10**-2.7)\n",
    "Cu2OH2 = Equilibrium({'Cu+2': 2, 'H2O': 2}, {'Cu2(OH)2+2': 1, 'H+': 2}, 10**-10.6 / H2O_c**2)\n",
    "CuNH3_B1 = Equilibrium({'CuNH3+2': 1}, {'Cu+2': 1, 'NH3': 1}, 10**-4.3)\n",
    "CuNH3_B2 = Equilibrium({'Cu(NH3)2+2': 1}, {'Cu+2': 1, 'NH3': 2}, 10**-7.9)\n",
    "CuNH3_B3 = Equilibrium({'Cu(NH3)3+2': 1}, {'Cu+2': 1, 'NH3': 3}, 10**-10.8)\n",
    "CuNH3_B4 = Equilibrium({'Cu(NH3)4+2': 1}, {'Cu+2': 1, 'NH3': 4}, 10**-13.0)\n",
    "CuNH3_B5 = Equilibrium({'Cu(NH3)5+2': 1}, {'Cu+2': 1, 'NH3': 5}, 10**-12.4)\n",
    "equilibria = w_autop, NH4p_pr, CuNH3_B1, CuNH3_B2, CuNH3_B3, CuNH3_B4, CuNH3_B5, Cu2OH2, CuOH2_s, CuOH_B3, CuOH_B4"
   ]
  },
  {
   "cell_type": "markdown",
   "metadata": {},
   "source": [
    "### Export to C++..."
   ]
  },
  {
   "cell_type": "code",
   "execution_count": null,
   "metadata": {},
   "outputs": [],
   "source": []
  },
  {
   "cell_type": "code",
   "execution_count": null,
   "metadata": {},
   "outputs": [],
   "source": [
    "print(\"// std::vector<std::string> names = {%s}\" % \", \".join(f'\"{n}\"' for n in substance_names))\n",
    "print(\"std::vector<std::vector<eqs::IdxCoeff>> stoich;\")\n",
    "for i, eq in enumerate(equilibria):\n",
    "    print('stoich.push_back({%s}); /* %s */' % (\", \".join(\n",
    "        [\"{%d, %d}\" % (substance_names.index(k), -v) for k, v in eq.reac.items()]+\n",
    "        [\"{%d, %d}\" % (substance_names.index(k), +v) for k, v in eq.prod.items()]\n",
    "    ), eq.string()))\n",
    "print(\"std::array<double, %d> eq_consts {%s};\" % (len(equilibria), \", \".join([str(eq.param) for eq in equilibria])))\n",
    "nprecip = 1\n",
    "print(\"return eqs::EqSys(%d, %d, stoich);\" % (len(substances)-nprecip, nprecip))"
   ]
  },
  {
   "cell_type": "markdown",
   "metadata": {},
   "source": [
    "### Human readable"
   ]
  },
  {
   "cell_type": "markdown",
   "metadata": {},
   "source": [
    "Let's see if we can print ``equilibria`` in a human-readable form:"
   ]
  },
  {
   "cell_type": "code",
   "execution_count": null,
   "metadata": {},
   "outputs": [],
   "source": [
    "import sympy as sp\n",
    "net = sp.Matrix([eq.net_stoich(substance_names[:-3]) for eq in equilibria[:-3]])\n",
    "ns = net.nullspace()\n",
    "def print_mat(mat, empty_zeros=False):\n",
    "    print('   ' + ' '.join(\"{:>11s}\".format(e) for e in substance_names[:len(mat[0])]))\n",
    "    print('\\n'.join(f\"{1+ri:>2d}:\" + ' '.join(map(lambda e: \" \"*11 if empty_zeros and e==0 else \"{:11.2f}\".format(float(e)), row)) for ri, row in enumerate(mat)))\n",
    "\n",
    "print_mat(ns, empty_zeros=True)"
   ]
  },
  {
   "cell_type": "code",
   "execution_count": null,
   "metadata": {},
   "outputs": [],
   "source": [
    "print_mat(net.tolist(), empty_zeros=True)"
   ]
  },
  {
   "cell_type": "code",
   "execution_count": null,
   "metadata": {},
   "outputs": [],
   "source": [
    "print('\\n'.join(e.string() for e in equilibria))"
   ]
  },
  {
   "cell_type": "code",
   "execution_count": null,
   "metadata": {},
   "outputs": [],
   "source": [
    "compo = sp.Matrix([[s.composition.get(c, 0) for c in [0, 1, 7, 8, atomic_number('Cu')]] for s in substances[:-3]]).T\n",
    "#print(compo.shape)\n",
    "print_mat(compo.tolist())"
   ]
  },
  {
   "cell_type": "code",
   "execution_count": null,
   "metadata": {},
   "outputs": [],
   "source": [
    "compo_rref, compo_piv = compo.rref()\n",
    "print(compo_piv)\n",
    "print_mat(compo_rref.tolist())"
   ]
  },
  {
   "cell_type": "code",
   "execution_count": null,
   "metadata": {},
   "outputs": [],
   "source": [
    "print_mat(net.rref()[0].tolist())  # not what we are looking for"
   ]
  },
  {
   "cell_type": "code",
   "execution_count": null,
   "metadata": {},
   "outputs": [],
   "source": [
    "Q, R = net.QRdecomposition()\n",
    "Q, R"
   ]
  },
  {
   "cell_type": "code",
   "execution_count": null,
   "metadata": {},
   "outputs": [],
   "source": [
    "R.rref()[0]"
   ]
  },
  {
   "cell_type": "code",
   "execution_count": null,
   "metadata": {},
   "outputs": [],
   "source": [
    "net.rref()[0]"
   ]
  },
  {
   "cell_type": "code",
   "execution_count": null,
   "metadata": {},
   "outputs": [],
   "source": [
    "print_mat(net.rref()[0].tolist())"
   ]
  },
  {
   "cell_type": "code",
   "execution_count": null,
   "metadata": {},
   "outputs": [],
   "source": [
    "def to_cxx(mat, flat=False):\n",
    "    if flat:\n",
    "        return \",\\n\".join([\", \".join(\"{: 3g}\".format(float(e)) for e in row) for row in mat.tolist()])+';\\n'\n",
    "    else:\n",
    "        return str(mat.tolist()).replace('[', '{').replace(']', '}')"
   ]
  },
  {
   "cell_type": "code",
   "execution_count": null,
   "metadata": {},
   "outputs": [],
   "source": [
    "to_cxx(net.rref()[0].applyfunc(float))"
   ]
  },
  {
   "cell_type": "markdown",
   "metadata": {},
   "source": [
    "### Invariants"
   ]
  },
  {
   "cell_type": "code",
   "execution_count": null,
   "metadata": {},
   "outputs": [],
   "source": [
    "def nullspace(mat):\n",
    "    rows = mat.nullspace()\n",
    "    for row in rows:\n",
    "        assert len(row) == len(rows[0])\n",
    "    return sp.Matrix(len(rows), len(rows[0]), lambda i, j: rows[i][j])\n",
    "print_mat(nullspace(net).tolist())"
   ]
  },
  {
   "cell_type": "code",
   "execution_count": null,
   "metadata": {},
   "outputs": [],
   "source": [
    "print_mat(nullspace(net).rref()[0].tolist())"
   ]
  },
  {
   "cell_type": "code",
   "execution_count": null,
   "metadata": {},
   "outputs": [],
   "source": [
    "L, U, lu_piv = compo.LUdecomposition()\n",
    "L, U, lu_piv"
   ]
  },
  {
   "cell_type": "code",
   "execution_count": null,
   "metadata": {},
   "outputs": [],
   "source": [
    "sp.Matrix(U.tolist()[:-1]).rref()"
   ]
  },
  {
   "cell_type": "code",
   "execution_count": null,
   "metadata": {},
   "outputs": [],
   "source": [
    "R = sp.Matrix(compo_rref.tolist()[:-1])\n",
    "N = sp.Matrix([list(n) for n in ns])\n",
    "R, N"
   ]
  },
  {
   "cell_type": "code",
   "execution_count": null,
   "metadata": {},
   "outputs": [],
   "source": [
    "N.rref()"
   ]
  },
  {
   "cell_type": "code",
   "execution_count": null,
   "metadata": {},
   "outputs": [],
   "source": [
    "import functools\n",
    "N_gcd = functools.reduce(sp.gcd, N)\n",
    "N/N_gcd"
   ]
  },
  {
   "cell_type": "code",
   "execution_count": null,
   "metadata": {},
   "outputs": [],
   "source": [
    "net"
   ]
  },
  {
   "cell_type": "code",
   "execution_count": null,
   "metadata": {},
   "outputs": [],
   "source": [
    "N@net.T"
   ]
  },
  {
   "cell_type": "code",
   "execution_count": null,
   "metadata": {},
   "outputs": [],
   "source": [
    "import numpy as np\n",
    "s=np.array([[float(e.strip()) for e in row.strip().split()] for row in \"\"\"\\\n",
    "   0.49550276185810738   -0.36616683957796192  -0.082300703508099163  -0.064667961140072741                                            \n",
    "   0.15672389166339035    0.53956433987380703   0.083352064813416907    0.15185588423140142                                            \n",
    "   0.52041884415681294   -0.26082719466049581   0.076406010493367593   -0.12979582474815846                                            \n",
    "  0.024916082298705577    0.10533964491746588    0.15870671400146669  -0.065127863608085743                                            \n",
    "   0.65222665352149778    0.17339750029584497  0.0010513613053178064   0.087187923091328612                                            \n",
    "  -0.10896152795961236   -0.46780479991621987   -0.10445292134310068    0.28838316393791613                                            \n",
    " -0.084045445660906826   -0.36246515499875392   0.054253792658366072    0.22325530032983038                                            \n",
    " -0.059129363362201225   -0.25712551008128803    0.21296050665983274    0.15812743672174467                                            \n",
    " -0.034213281063495631   -0.15178586516382209    0.37166722066129931   0.092999573113658973                                            \n",
    "-0.0092971987647900121  -0.046446220246356335    0.53037393466276606   0.027871709505573147                                            \n",
    "  0.015618883533915445    0.05889342467110948     0.6890806486642328  -0.037256154102512484                                            \n",
    "  0.095524727407555896     0.1435190799151741  -0.042201713059367388    0.88047809633863505 \"\"\".split('\\n')])\n",
    "s"
   ]
  },
  {
   "cell_type": "code",
   "execution_count": null,
   "metadata": {},
   "outputs": [],
   "source": [
    "to_cxx(s)"
   ]
  },
  {
   "cell_type": "code",
   "execution_count": null,
   "metadata": {},
   "outputs": [],
   "source": [
    "s.T"
   ]
  },
  {
   "cell_type": "code",
   "execution_count": null,
   "metadata": {},
   "outputs": [],
   "source": [
    "from scipy.linalg import lu\n",
    "p,l,u=lu(s.T)"
   ]
  },
  {
   "cell_type": "code",
   "execution_count": null,
   "metadata": {},
   "outputs": [],
   "source": [
    "np.set_printoptions(linewidth=200, formatter={'float': lambda x: \"{:5.2f}\".format(x) if x !=0 else \"     \"})\n",
    "u"
   ]
  },
  {
   "cell_type": "code",
   "execution_count": null,
   "metadata": {},
   "outputs": [],
   "source": [
    "def _piv(row):\n",
    "    abs_avg = np.sum(np.abs(row))/row.size\n",
    "    thresh = 1e-8 * abs_avg\n",
    "    for i in range(len(row)):\n",
    "        if abs(row[i]) > thresh:\n",
    "            return i\n",
    "    raise ValueError(\"failed to find pivot\")\n",
    "    \n",
    "def reduced(mtx):\n",
    "    rows = []\n",
    "    for i, row in enumerate(mtx):\n",
    "        piv = _piv(row)\n",
    "        for j, prev in enumerate(rows):\n",
    "            alpha = prev[piv]/row[piv]\n",
    "            rows[j] = prev - alpha * row\n",
    "        row /= row[piv]\n",
    "        rows.append(row)\n",
    "    if isinstance(mtx, np.ndarray):\n",
    "        result = np.empty_like(mtx)\n",
    "        for i, row in enumerate(rows):\n",
    "            result[i, :] = row\n",
    "    elif isinstance(mtx, sp.MatrixBase):\n",
    "        result = sp.Matrix(len(rows), len(rows[0]), lambda i, j: rows[i][j])\n",
    "    else:\n",
    "        result = rows\n",
    "    return result\n",
    "\n",
    "#reduced(u)\n",
    "print_mat(reduced(u).tolist())"
   ]
  },
  {
   "cell_type": "code",
   "execution_count": null,
   "metadata": {},
   "outputs": [],
   "source": [
    "to_cxx(reduced(u))"
   ]
  },
  {
   "cell_type": "code",
   "execution_count": null,
   "metadata": {},
   "outputs": [],
   "source": [
    "def pos(mtx):\n",
    "    mtx = mtx.copy()\n",
    "    for col_idx in range(mtx.shape[1]):\n",
    "        col = mtx[:, col_idx]\n",
    "        i_max = np.argmax(col)\n",
    "        mx = col[i_max]\n",
    "        if mx <= 0:\n",
    "            raise ValueError(\"assumption failed\")\n",
    "        for i in range(mtx.shape[0]):\n",
    "            coeff = mtx[i, col_idx]\n",
    "            if coeff < 0:\n",
    "                alpha = -coeff/mx\n",
    "                mtx[i, :] += alpha*mtx[i_max, :]\n",
    "    return mtx\n",
    "pos_red = pos(reduced(u))\n",
    "print_mat(pos_red.tolist())"
   ]
  },
  {
   "cell_type": "code",
   "execution_count": null,
   "metadata": {},
   "outputs": [],
   "source": [
    "to_cxx(pos(reduced(u)))"
   ]
  },
  {
   "cell_type": "code",
   "execution_count": null,
   "metadata": {},
   "outputs": [],
   "source": [
    "R@net.T"
   ]
  },
  {
   "cell_type": "code",
   "execution_count": null,
   "metadata": {},
   "outputs": [],
   "source": [
    "u@net.T"
   ]
  },
  {
   "cell_type": "code",
   "execution_count": null,
   "metadata": {},
   "outputs": [],
   "source": [
    "reduced(u)@net.T"
   ]
  },
  {
   "cell_type": "code",
   "execution_count": null,
   "metadata": {},
   "outputs": [],
   "source": [
    "s.T@net.T"
   ]
  },
  {
   "cell_type": "code",
   "execution_count": null,
   "metadata": {},
   "outputs": [],
   "source": [
    "d = np.array([float(e) for e in \"1, 0, 0, 0, 0.31629267024806201, 1, 0, 0, 1.0502844468621562, 0.18882495495922746, 1, 0, 0.050284446862156079, 0.18882495495922716, 0.99999999999999956, 0, 1.3162926702480622, 0.99999999999999978, 6.8319789749995289e-16, 0, 0, 0, 0, 1, 0.050284446862156051, 0.18882495495922746, 1.0000000000000002, 1.0000000000000002, 0.10056889372431217, 0.37764990991845471, 1.9999999999999998, 1.0000000000000002, 0.15085334058646824, 0.56647486487768173, 2.9999999999999982, 1, 0.2011377874486244, 0.75529981983690875, 3.9999999999999982, 1, 0.25142223431078037, 0.94412477479613599, 4.9999999999999982, 1.0000000000000004, 0.63258534049612392, 2, 1.4432899320127035e-15, 2.0000000000000004\".split(',')]).reshape((4, -1))\n",
    "d"
   ]
  },
  {
   "cell_type": "code",
   "execution_count": null,
   "metadata": {},
   "outputs": [],
   "source": [
    "def symbolic_sum(mat):\n",
    "    for row in mat if isinstance(mat, list) else mat.tolist():\n",
    "        sum_ = sum([sp.Symbol(f\"[{s}]\")*c for s, c in zip(substance_names, row)])\n",
    "        if sum_ != 0:\n",
    "            print(sum_)\n",
    "symbolic_sum(compo_rref)"
   ]
  },
  {
   "cell_type": "code",
   "execution_count": null,
   "metadata": {},
   "outputs": [],
   "source": [
    "#for vec in ns:\n",
    "#    print(sum([sp.Symbol(f\"[{s}]\")*c for s, c in zip(substance_names, vec)]))\n",
    "symbolic_sum(ns)"
   ]
  },
  {
   "cell_type": "markdown",
   "metadata": {},
   "source": [
    "## Reduced non-linearity"
   ]
  },
  {
   "cell_type": "code",
   "execution_count": null,
   "metadata": {},
   "outputs": [],
   "source": [
    "import sys; sys.version, sys.executable, np.__version__"
   ]
  },
  {
   "cell_type": "code",
   "execution_count": null,
   "metadata": {},
   "outputs": [],
   "source": [
    "#from scipy.optimize import fmin\n",
    "def fmin(f, x0):\n",
    "    xmin = None\n",
    "    vmin = None\n",
    "    for x in range(-5,5):\n",
    "        if x == 0:\n",
    "            continue\n",
    "        if xmin is None:\n",
    "            xmin = x\n",
    "            vmin = f(x)\n",
    "            continue\n",
    "        v = f(x)\n",
    "        if v < vmin:\n",
    "            xmin = x\n",
    "            vmin = v\n",
    "            #print(x, v)\n",
    "    return xmin, vmin\n",
    "\n",
    "def calc_eq_component_presence(A, subst_compo, *, threshold):\n",
    "    result = []\n",
    "    for i in range(A.rows):\n",
    "        result.append([])\n",
    "        for j in range(subst_compo.shape[0]):\n",
    "            present = False\n",
    "            for k in range(A.cols):\n",
    "                if A[i, k] == 0:\n",
    "                    continue\n",
    "                if abs(subst_compo[j, k]) > threshold:\n",
    "                    present = True\n",
    "                    break\n",
    "            result[i].append(present)\n",
    "    return np.array(result, dtype=bool)\n",
    "\n",
    "def min_mag(A, *, eq_compo_pres, aug=None):\n",
    "    A = A.copy()\n",
    "    rows = []\n",
    "    for i in range(A.rows):\n",
    "        min_abs_nonzero_ele = min([abs(x) for x in A[i, :] if x != 0])\n",
    "        if (min_abs_nonzero_ele < 1 and min_abs_nonzero_ele > 0.1) or min_abs_nonzero_ele >= 2:\n",
    "            print(i)\n",
    "            A[i, :] /= min_abs_nonzero_ele\n",
    "            if aug is not None:\n",
    "                aug[i, :] /= min_abs_nonzero_ele\n",
    "                \n",
    "    for i in range(A.rows-1, -1, -1):\n",
    "        def wsum(lst):\n",
    "            return sum([e**2 for e in lst])\n",
    "        little_more_than_one = 1 + 1e-10\n",
    "        \n",
    "\n",
    "        jmin = -1\n",
    "        vmin = wsum(A[i, :])\n",
    "        \n",
    "        for j in range(0, A.rows):\n",
    "            if i == j:\n",
    "                continue\n",
    "            \n",
    "            candidate_row_contains_extra_compo = False\n",
    "            for k in range(eq_compo_pres.shape[1]):\n",
    "                if eq_compo_pres[j, k] and not eq_compo_pres[i, k]:\n",
    "                    candidate_row_contains_extra_compo = True\n",
    "                    break\n",
    "            if candidate_row_contains_extra_compo:\n",
    "                # we don't want to introduce an additional component just to reduce non-linearity\n",
    "                # if this for some reason would be desired (guarantted that all components are present)\n",
    "                # then `eq_compo_pres` can be set to all True\n",
    "                continue\n",
    "            \n",
    "            def f(alpha):\n",
    "                return wsum(A[i, :] + alpha*A[j, :])\n",
    "\n",
    "            alpha, val = fmin(f, 1)\n",
    "            #print(alpha, end=\", \")\n",
    "            if val*little_more_than_one < vmin:\n",
    "                vmin = val\n",
    "                jmin = j\n",
    "                amin = alpha\n",
    "        if jmin != -1:\n",
    "            print(i, jmin, amin)\n",
    "            #rows.append(A[i, :] + float(amin)*A[jmin, :])\n",
    "            A[i, :] += amin*A[jmin, :]\n",
    "            if aug is not None:\n",
    "                aug[i, :] += amin*aug[jmin, :]\n",
    "    return A"
   ]
  },
  {
   "cell_type": "code",
   "execution_count": null,
   "metadata": {},
   "outputs": [],
   "source": [
    "net#.rref()"
   ]
  },
  {
   "cell_type": "code",
   "execution_count": null,
   "metadata": {},
   "outputs": [],
   "source": [
    "sum(abs(e) for e in net.rref()[0])"
   ]
  },
  {
   "cell_type": "code",
   "execution_count": null,
   "metadata": {},
   "outputs": [],
   "source": [
    "net"
   ]
  },
  {
   "cell_type": "code",
   "execution_count": null,
   "metadata": {},
   "outputs": [],
   "source": [
    "eq_compo_pres = calc_eq_component_presence(net, pos_red, threshold=1e-10)\n",
    "print_mat(eq_compo_pres.tolist(), empty_zeros=True)"
   ]
  },
  {
   "cell_type": "code",
   "execution_count": null,
   "metadata": {},
   "outputs": [],
   "source": [
    "aug = sp.eye(8)\n",
    "mmag = min_mag(net, aug=aug, eq_compo_pres=eq_compo_pres)\n",
    "print_mat(mmag.tolist(), empty_zeros=True)"
   ]
  },
  {
   "cell_type": "code",
   "execution_count": null,
   "metadata": {},
   "outputs": [],
   "source": [
    "#mmag2 = mmag.subs({sp.Float(1.0): sp.S.One, sp.Float(0.5): sp.S.One/2, sp.Float(2.0): 2*sp.S.One, sp.Float(3.0): 3*sp.S.One})\n",
    "#mmag2, mmag2.rank()\n",
    "mmag2 = mmag"
   ]
  },
  {
   "cell_type": "code",
   "execution_count": null,
   "metadata": {},
   "outputs": [],
   "source": [
    "mmag3 = min_mag(mmag2, aug=aug, eq_compo_pres=eq_compo_pres)\n",
    "mmag3"
   ]
  },
  {
   "cell_type": "code",
   "execution_count": null,
   "metadata": {},
   "outputs": [],
   "source": [
    "sum(e != 0 for e in mmag3)"
   ]
  },
  {
   "cell_type": "code",
   "execution_count": null,
   "metadata": {},
   "outputs": [],
   "source": [
    "mmag4 = min_mag(mmag3, aug=aug, eq_compo_pres=eq_compo_pres)\n",
    "mmag4"
   ]
  },
  {
   "cell_type": "code",
   "execution_count": null,
   "metadata": {},
   "outputs": [],
   "source": [
    "sum(e != 0 for e in mmag4)"
   ]
  },
  {
   "cell_type": "code",
   "execution_count": null,
   "metadata": {},
   "outputs": [],
   "source": [
    "print_mat(mmag4.tolist(), empty_zeros=True)"
   ]
  },
  {
   "cell_type": "code",
   "execution_count": null,
   "metadata": {},
   "outputs": [],
   "source": [
    "mmag5 = min_mag(mmag4, aug=aug, eq_compo_pres=eq_compo_pres)\n",
    "mmag5"
   ]
  },
  {
   "cell_type": "code",
   "execution_count": null,
   "metadata": {},
   "outputs": [],
   "source": [
    "sum(e != 0 for e in mmag5)"
   ]
  },
  {
   "cell_type": "code",
   "execution_count": null,
   "metadata": {},
   "outputs": [],
   "source": [
    "aug"
   ]
  },
  {
   "cell_type": "code",
   "execution_count": null,
   "metadata": {},
   "outputs": [],
   "source": []
  },
  {
   "cell_type": "code",
   "execution_count": null,
   "metadata": {},
   "outputs": [],
   "source": [
    "ref = sp.Matrix(8,20, [0]*8*20)\n",
    "ref[:, :12] = mmag5\n",
    "ref[:, 12:] = aug\n",
    "print(to_cxx(ref, flat=True))\n",
    "ref"
   ]
  },
  {
   "cell_type": "code",
   "execution_count": null,
   "metadata": {},
   "outputs": [],
   "source": [
    "#mmag5.rref()  # <--- worse"
   ]
  },
  {
   "cell_type": "code",
   "execution_count": null,
   "metadata": {},
   "outputs": [],
   "source": [
    "aug"
   ]
  },
  {
   "cell_type": "code",
   "execution_count": null,
   "metadata": {},
   "outputs": [],
   "source": [
    "import numpy as np\n",
    "lbk = [np.log2(eq.param) for eq in equilibria[:8]]\n",
    "lbk2 = aug@sp.Matrix(8, 1, lbk)\n",
    "print(to_cxx(lbk2, flat=True).replace('\\n', ' '))"
   ]
  },
  {
   "cell_type": "code",
   "execution_count": null,
   "metadata": {},
   "outputs": [],
   "source": [
    "print(lbk2)"
   ]
  },
  {
   "cell_type": "code",
   "execution_count": null,
   "metadata": {},
   "outputs": [],
   "source": [
    "#print(().applyfunc(\n",
    "#    lambda x:\n",
    "#    #x/np.log2(10)\n",
    "#    exp2(x)\n",
    "#)"
   ]
  },
  {
   "cell_type": "markdown",
   "metadata": {},
   "source": [
    "### Lower bounds"
   ]
  },
  {
   "cell_type": "code",
   "execution_count": null,
   "metadata": {},
   "outputs": [],
   "source": [
    "ic12 = [init_conc[k] for k in substance_names[:-3]]\n",
    "print(ic12)\n",
    "\n",
    "from functools import reduce\n",
    "from operator import add\n",
    "ns_mat = sp.Matrix(4, 12, reduce(add, map(list, ns)))\n",
    "print(ns_mat)\n",
    "\n",
    "ns_mat @ sp.Matrix(12, 1, ic12)  # note that this is *not* useful"
   ]
  },
  {
   "cell_type": "code",
   "execution_count": null,
   "metadata": {},
   "outputs": [],
   "source": [
    "nsr = ns_mat.rref()[0]\n",
    "#print_mat(nsr.tolist())\n",
    "iv0 = nsr @ sp.Matrix(12, 1, ic12)  # this is what we are looking for\n",
    "iv0\n",
    "ub = [min(iv0[ri]/nsr[ri, ci] for ri in range(4) if abs(nsr[ri, ci]) > 1e-10) for ci in range(12)]\n",
    "print(ub)  # nope"
   ]
  },
  {
   "cell_type": "code",
   "execution_count": null,
   "metadata": {},
   "outputs": [],
   "source": [
    "print(iv0)"
   ]
  },
  {
   "cell_type": "code",
   "execution_count": null,
   "metadata": {},
   "outputs": [],
   "source": [
    "pnsr = pos(nsr)\n",
    "iv0 = pnsr @ sp.Matrix(12, 1, ic12)  # this is what we are looking for\n",
    "iv0\n",
    "ub = [min(iv0[ri]/pnsr[ri, ci] for ri in range(4) if abs(pnsr[ri, ci]) > 1e-10) for ci in range(12)]\n",
    "print(ub)  # yup"
   ]
  },
  {
   "cell_type": "code",
   "execution_count": null,
   "metadata": {},
   "outputs": [],
   "source": [
    "print_mat(pnsr.tolist())"
   ]
  },
  {
   "cell_type": "code",
   "execution_count": null,
   "metadata": {},
   "outputs": [],
   "source": [
    "m, n, t = sp.symbols(\"m n t\")\n",
    "ft = (m+n*sp.exp(-t))/(1+sp.exp(-t))\n",
    "ft"
   ]
  },
  {
   "cell_type": "code",
   "execution_count": null,
   "metadata": {},
   "outputs": [],
   "source": [
    "dfdt = ft.diff(t)\n",
    "dfdt"
   ]
  },
  {
   "cell_type": "code",
   "execution_count": null,
   "metadata": {},
   "outputs": [],
   "source": [
    "dfdt.factor()"
   ]
  },
  {
   "cell_type": "code",
   "execution_count": null,
   "metadata": {},
   "outputs": [],
   "source": [
    "from abc import abstractmethod\n",
    "import warnings\n",
    "import copy\n",
    "\n",
    "class Result:\n",
    "    def __init__(self, x, *, niter, mxiter):\n",
    "        self.x = x\n",
    "        self.niter = niter\n",
    "        self.mxiter = mxiter\n",
    "        \n",
    "    @property\n",
    "    def success(self):\n",
    "        return self.niter < self.mxiter\n",
    "\n",
    "\n",
    "class SingleEqProblemBase:\n",
    "    def __init__(self, row, *, ci, lb, ub, K):\n",
    "        self.ns = len(lb)\n",
    "        assert self.ns == len(ub)\n",
    "        assert self.ns == len(row)\n",
    "        assert row[ci] < -1e-10\n",
    "        self.row = np.asarray(row, dtype=np.float64)\n",
    "        self.lb = np.asarray(lb, dtype=np.float64)\n",
    "        self.ub = np.asarray(ub, dtype=np.float64)\n",
    "        assert np.all(self.lb < self.ub)\n",
    "        assert np.all(self.lb >= 0)\n",
    "        #self.ci = ci\n",
    "        assert 0 < K\n",
    "        assert K < float('inf')\n",
    "        self.K = K\n",
    "        self.xmin = -min(ll/self.row[li] for li, ll in enumerate(self.lb) if self.row[li] > 1e-10)\n",
    "        self.xmax = min(uu/-self.row[ui] for ui, uu in enumerate(self.ub) if self.row[ui] < -1e-10)\n",
    "        \n",
    "    \n",
    "class SingleEqProblem(SingleEqProblemBase):\n",
    "    \n",
    "    def __init__(self, row, *, ci, lb, ub, K, log=False):\n",
    "        super().__init__(row, ci=ci, lb=lb, ub=ub, K=K)\n",
    "        self.log = log\n",
    "\n",
    "    def _lo_hi(self):\n",
    "        span = self.xmax-self.xmin\n",
    "        return self.xmin-0*span, self.xmax+0*span\n",
    "\n",
    "    def x(self, y, be=np):\n",
    "        assert False\n",
    "    \n",
    "    def xprime(self, y, be=np):\n",
    "        assert False\n",
    "\n",
    "    def y(self, x, be=np):\n",
    "        assert False\n",
    "\n",
    "    def consu(self, x, be=np):\n",
    "        if self.log:\n",
    "            y = x; del x\n",
    "            result = 0.0\n",
    "            for i, c in enumerate(self.row):\n",
    "                if c < -1e-10:\n",
    "                    m = self.ub[i]\n",
    "                    arg = m + c*self.x(y, be=be)\n",
    "                    if isinstance(arg, float) and arg < 1e-150:\n",
    "                        arg = 1e-150\n",
    "                    result += -c*be.log(arg)\n",
    "        else:\n",
    "            result = 1.0\n",
    "            for i, c in enumerate(self.row):\n",
    "                if c < -1e-10:\n",
    "                    result *= (self.ub[i] + c*x)**-c\n",
    "        return result\n",
    "\n",
    "    def produ(self, x, be=np):\n",
    "        if self.log:\n",
    "            y = x; del x\n",
    "            result = 0.0\n",
    "            for i, c in enumerate(self.row):\n",
    "                if c > 1e-10:\n",
    "                    l = self.lb[i]\n",
    "                    arg = l+c*self.x(y, be=be)\n",
    "                    if isinstance(arg, float) and arg < 1e-150:\n",
    "                        arg = 1e-150\n",
    "                    result += c*be.log(arg)\n",
    "        else:\n",
    "            result = 1.0\n",
    "            for i, c in enumerate(self.row):\n",
    "                if c > 1e-10:\n",
    "                    result *= (self.lb[i] + c*x)**c\n",
    "        return result\n",
    "\n",
    "    def f(self, x, be=np):\n",
    "        if self.log:\n",
    "            return be.log(self.K) + self.consu(x, be=be) - self.produ(x, be=be)\n",
    "        else:\n",
    "            return self.K*self.consu(x) - self.produ(x)\n",
    "    \n",
    "    def df(self, x, be=np):\n",
    "        if self.log:\n",
    "            return self.df_log(x, be=be)\n",
    "        else:\n",
    "            return self.df_lin(x)\n",
    "    \n",
    "    def df_lin(self, x):\n",
    "        terms = []\n",
    "        consumed = self.consu(x)\n",
    "        produced = self.produ(x)\n",
    "        for i, c in enumerate(self.row):\n",
    "            if c < -1e-10:\n",
    "                denom = (self.ub[i] + c*x)\n",
    "                if isinstance(denom, float):\n",
    "                    assert denom >= 0\n",
    "                \n",
    "                if denom == 0:\n",
    "                    rdenom = 1.0\n",
    "                else:\n",
    "                    rdenom = 1.0/denom\n",
    "                terms.append(self.K*consumed*(-c)*c*rdenom)\n",
    "            elif c > 1e-10:\n",
    "                denom = (self.lb[i] + c*x)\n",
    "                if isinstance(denom, float):\n",
    "                    assert denom >= 0\n",
    "                \n",
    "                if denom == 0:\n",
    "                    rdenom = 1.0\n",
    "                else:\n",
    "                    rdenom = 1.0/denom\n",
    "                terms.append(-produced*c*c*rdenom)\n",
    "        return sum(terms)\n",
    "\n",
    "    def df_log(self, y, be=np):\n",
    "        terms = []\n",
    "        for i, c in enumerate(self.row):\n",
    "            if c < -1e-10:\n",
    "                m = self.ub[i]\n",
    "                denom = m + c*self.x(y, be=be)\n",
    "                #if isinstance(denom, float) and denom < 1e-150:\n",
    "                #    denom = 1e-150\n",
    "                terms.append(-c*c*self.xprime(y, be=be)/denom)\n",
    "                if isinstance(terms[-1], float):\n",
    "                    assert not np.isnan(terms[-1])\n",
    "            elif c > 1e-10:\n",
    "                l = self.lb[i]\n",
    "                denom = l + c*self.x(y, be=be)\n",
    "                #if isinstance(denom, float) and denom < 1e-150:\n",
    "                #    denom = 1e-150\n",
    "                terms.append(-c*c*self.xprime(y, be=be)/denom)\n",
    "                if isinstance(terms[-1], float):\n",
    "                    assert not np.isnan(terms[-1])\n",
    "        return sum(terms)\n",
    "    \n",
    "    def linesearch(self, x, dx, lmbda, mxiter=15):\n",
    "        fold = self.f(x+lmbda*dx)\n",
    "        shrink = 0.7\n",
    "        for i in range(mxiter):\n",
    "            fnew = self.f(x + shrink*lmbda*dx)\n",
    "            if 1.0001*abs(fnew) > abs(fold):\n",
    "                return lmbda\n",
    "            else:\n",
    "                lmbda *= shrink\n",
    "        warnings.warn(\"reached mxiter in linesearch\")\n",
    "        return lmbda\n",
    "    \n",
    "    def solve(self, guess=None, mxiter=40):\n",
    "        print(f\"{self.xmax=} {self.xmin=}\")\n",
    "        if guess is None:\n",
    "            x = self.xmin + (self.xmax - self.xmin)/3.1234567899999 # guess \n",
    "            if self.log:\n",
    "                x = self.y(x)\n",
    "        else:\n",
    "            x = copy.copy(guess)\n",
    "        \n",
    "        if not self.log:\n",
    "            assert self.xmin <= x and x <= self.xmax\n",
    "        \n",
    "        fx = self.f(x)\n",
    "        fx_old = float('inf')\n",
    "        dfx = self.df(x)\n",
    "        dx = -fx/dfx\n",
    "        dx_old = float('inf')\n",
    "        print(f\"f(x)={fx} f(x+dx)={self.f(x+dx)} f(x-dx)={self.f(x-dx)} {self.K=}\")\n",
    "        i = 1\n",
    "        lmbda=1.0\n",
    "        while True:\n",
    "            if self.log:\n",
    "                if abs(dx) < 1e-7 and abs(fx) < 1e-6:\n",
    "                    break\n",
    "                if abs(dx) < 1e-5 and abs(fx) < 1e-4:\n",
    "                    if abs(dx/dx_old - 1) < 0.01 and abs(fx/fx_old) > 0.95:\n",
    "                        break\n",
    "            else:\n",
    "                if abs(dx)/abs(x) < 1e-10 and abs(fx)/(1 if self.log else self.K) < 1e-10:\n",
    "                    break\n",
    "            lmbda = self.linesearch(x, dx, lmbda*1.05)\n",
    "            print(f\"{i=:2d}  {x=:<19.16f}  {dx=:<19.16f}  {abs(fx)=:<19.16f}  {dfx=:<19.16f}  {lmbda=:<19.16f}\")\n",
    "            x += dx\n",
    "            if self.log:\n",
    "                if x < self.y(self.xmin):\n",
    "                    x = self.y(self.xmin)\n",
    "                elif x > self.y(self.xmax):\n",
    "                    x = self.y(self.xmax)\n",
    "            else:\n",
    "                if x < self.xmin:\n",
    "                    x = self.xmin\n",
    "                elif x > self.xmax:\n",
    "                    x = self.xmax\n",
    "            fx_old = fx\n",
    "            fx = self.f(x)\n",
    "            if self.log:\n",
    "                dfx = self.df(x)\n",
    "            else:\n",
    "                dfx = self.df(1e-200 + (1-6e-16)*x)\n",
    "            dx_old = dx\n",
    "            dx = -fx/dfx\n",
    "            assert not (np.isinf(dx) or np.isnan(dx))\n",
    "            i += 1\n",
    "            if i >= mxiter:\n",
    "                break\n",
    "        print(f\"{i=:2d}  {x=:<19.16f}  {dx=:<19.16f}  {abs(fx)=:<19.16f}  {dfx=:<19.16f}  {lmbda=:<19.16f}\")\n",
    "        return Result(x=x, niter=i, mxiter=mxiter)\n",
    "    \n",
    "class SingleEqProblemTanh(SingleEqProblem):\n",
    "    def x(self, y, be=np):\n",
    "        #assert self.log\n",
    "        if isinstance(y, float) and y > 150:\n",
    "            y = 150\n",
    "        elif isinstance(y, float) and y < -150:\n",
    "            y = -150\n",
    "        ey = be.exp(-y)\n",
    "        lo, hi = self._lo_hi()\n",
    "        return (hi + lo*ey)/(1+ey)\n",
    "    \n",
    "    def xprime(self, y, be=np):\n",
    "        ey = be.exp(y)\n",
    "        lo, hi = self._lo_hi()\n",
    "        return (hi-lo)*ey/(ey+1)**2\n",
    "        \n",
    "    def y(self, x, be=np):\n",
    "        assert self.log\n",
    "        lo, hi = self._lo_hi()\n",
    "        a = x-lo\n",
    "        b = hi - x\n",
    "        if isinstance(a, float) and a < 1e-150:\n",
    "            a = 1e-150\n",
    "        if isinstance(b, float) and b < 1e-150:\n",
    "            b = 1e-150\n",
    "        return be.log(a) - be.log(b)\n",
    "    \n",
    "class SingleEqProblemAsinh(SingleEqProblem):\n",
    "    def x(self, y, be=np):\n",
    "        #assert self.log\n",
    "        if isinstance(y, float) and y > 1e150:\n",
    "            y = 1e150\n",
    "        elif isinstance(y, float) and y < -1e150:\n",
    "            y = -1e150\n",
    "        return be.arcsinh(y)\n",
    "    \n",
    "    def xprime(self, y, be=np):\n",
    "        if isinstance(y, float) and y > 1e150:\n",
    "            y = 1e150\n",
    "        elif isinstance(y, float) and y < -1e150:\n",
    "            y = -1e150\n",
    "        return 1/be.sqrt(y*y+1)\n",
    "        \n",
    "    def y(self, x, be=np):\n",
    "        if isinstance(x, float) and x < -346:\n",
    "            x = -346\n",
    "        if isinstance(x, float) and x > 346:\n",
    "            x = 346\n",
    "        return be.sinh(x)"
   ]
  },
  {
   "cell_type": "code",
   "execution_count": null,
   "metadata": {},
   "outputs": [],
   "source": [
    "a = np.array([-1, 2, 3, 4])\n",
    "np.cumprod([a+2 for a in a])"
   ]
  },
  {
   "cell_type": "code",
   "execution_count": null,
   "metadata": {},
   "outputs": [],
   "source": [
    "from scipy.special import binom\n",
    "\n",
    "def prod(factors):\n",
    "    return reduce(mul, factors)\n",
    "\n",
    "class SingleEqProblemPoly(SingleEqProblemBase):\n",
    "    def _poly(self):\n",
    "        # P: K*Prod((u_i - c_i*x)**c_i, ∀ i ∈ consump.) - Prod((c_i*x)**c_i, ∀ i ∈ produ.)\n",
    "        ma_consu = self.row < -1e-10\n",
    "        ma_produ = self.row > +1e-10\n",
    "        nconsu = np.sum(ma_consu)\n",
    "        nprodu = np.sum(ma_produ)\n",
    "        consu_idxs = [i for i, p in enumerate(ma_consu) if p]; assert len(consu_idxs) == nconsu\n",
    "        produ_idxs = [i for i, p in enumerate(ma_produ) if p]; assert len(produ_idxs) == nprodu\n",
    "        consu_coeffs = self.row[ma_consu]; assert len(consu_coeffs) == nconsu\n",
    "        produ_coeffs = self.row[ma_produ]; assert len(produ_coeffs) == nprodu\n",
    "        tot_abspwr_consu = np.prod(-consu_coeffs); assert tot_abspwr_consu >= 0\n",
    "        tot_pwr_produ = np.prod(produ_coeffs); assert tot_pwr_produ >= 0\n",
    "        max_totpwr = round(max(tot_abspwr_consu, tot_pwr_produ))\n",
    "        pcoeffs = np.zeros(max_totpwr+1)\n",
    "        #n_binom_terms = \n",
    "        \n",
    "        ccc = np.cumsum(-consu_coeffs)\n",
    "        print(f\"{nconsu=}\")\n",
    "        if nconsu:\n",
    "            for i in range(2**round(tot_abspwr_consu)):\n",
    "                term = 1\n",
    "                order = 0\n",
    "                for j in range(round(tot_abspwr_consu)):\n",
    "                    for k in range(nconsu):\n",
    "                        if ccc[k] > j:\n",
    "                            break\n",
    "                    else:\n",
    "                        assert False\n",
    "                    if (i >> j) & 1:\n",
    "                        term *= self.ub[k]\n",
    "                        print(f\": {i=} {j=} {k=}\")\n",
    "                    else:\n",
    "                        term *= self.xmax*consu_coeffs[k]\n",
    "                        order += 1\n",
    "                        print(f\"| {i=} {j=} {k=}\")\n",
    "                    #c = round(-consu_coeffs[j])\n",
    "                    #k = i % (c+1)\n",
    "                    #i = i // (c+1)\n",
    "                    #c_choose_k = binom(c, k)\n",
    "                    #term *= c_choose_k*self.ub[j]**(c-k)*(-c)**(k)\n",
    "                    #order += k\n",
    "                pcoeffs[order] += term\n",
    "        pcoeffs *= self.K\n",
    "        \n",
    "        if nprodu:\n",
    "            term = 1\n",
    "            ppow = 0\n",
    "            for c in map(round, produ_coeffs):\n",
    "                term *= (self.xmax*c)**c\n",
    "                ppow += c\n",
    "            pcoeffs[ppow] -= term\n",
    "        return np.polynomial.Polynomial(pcoeffs\n",
    "                                        /np.max(pcoeffs))\n",
    "\n",
    "    def solve(self):\n",
    "        p = self._poly()\n",
    "        for r in p.roots():\n",
    "            if r.imag == 0 and 0 <= r.real <= self.xmax:\n",
    "                return r.real\n",
    "        raise ValueError(\"Failed to find root\")"
   ]
  },
  {
   "cell_type": "code",
   "execution_count": null,
   "metadata": {},
   "outputs": [],
   "source": [
    "sepp3 = SingleEqProblemPoly([-3, 2], ci=0, lb=[1e-3]*2, ub=[5, 5*2/3], K=7)\n",
    "#p = sepp3._poly()\n",
    "#p.roots()\n",
    "\n",
    "#spoly = 7*(5-3*x)**3-(2*x)**2\n",
    "#print(spoly.expand())\n",
    "#sols=sympy.solveset(spoly)\n",
    "#[s.evalf() for s in sols]\n",
    "\n",
    "sepp3.solve()"
   ]
  },
  {
   "cell_type": "code",
   "execution_count": null,
   "metadata": {},
   "outputs": [],
   "source": [
    "sepp3._poly()"
   ]
  },
  {
   "cell_type": "code",
   "execution_count": null,
   "metadata": {},
   "outputs": [],
   "source": [
    "sepp = SingleEqProblemPoly([-2, -2, 1, 2], ci=1, lb=[1e-3]*4, ub=[2, 2, 1, 2], K=3)"
   ]
  },
  {
   "cell_type": "code",
   "execution_count": null,
   "metadata": {},
   "outputs": [],
   "source": [
    "sepp._poly()"
   ]
  },
  {
   "cell_type": "code",
   "execution_count": null,
   "metadata": {},
   "outputs": [],
   "source": [
    "x = sp.Symbol('x', real=True)\n",
    "reac, prod = 1, 1\n",
    "for i, c in enumerate(sepp.row):\n",
    "    if c > 0:\n",
    "        prod = prod * ((c*sepp.xmax*x)**int(c))\n",
    "    elif c == 0:\n",
    "        continue\n",
    "    else:\n",
    "        reac = reac * (sepp.ub[i] + c*sepp.xmax*x)**-int(c)\n",
    "sympol = (sepp.K*reac - prod).expand()\n",
    "mxcoeff = max([t/x**i for i, t in enumerate(sympol.as_ordered_terms()[::-1])])\n",
    "sympol1 = sympol/mxcoeff\n",
    "sympol1"
   ]
  },
  {
   "cell_type": "code",
   "execution_count": null,
   "metadata": {},
   "outputs": [],
   "source": [
    "sepp.solve()"
   ]
  },
  {
   "cell_type": "code",
   "execution_count": null,
   "metadata": {},
   "outputs": [],
   "source": [
    "sep = SingleEqProblem([-2, -2, 1, 2], ci=1, lb=[1e-3]*4, ub=[2, 2, 1, 2], K=3)\n",
    "sep.solve()"
   ]
  },
  {
   "cell_type": "code",
   "execution_count": null,
   "metadata": {},
   "outputs": [],
   "source": [
    "#sep_asinh = SingleEqProblemAsinh([-2, -2, 1, 2], ci=1, lb=[1e-3]*4, ub=[2, 2, 1, 2], K=3)\n",
    "#sep_asinh.log = True\n",
    "#r = sep_asinh.solve()\n",
    "#print(sep_asinh.x(r.x))"
   ]
  },
  {
   "cell_type": "code",
   "execution_count": null,
   "metadata": {},
   "outputs": [],
   "source": [
    "#from sym import Backend\n",
    "#be = Backend()\n",
    "#be.expm1"
   ]
  },
  {
   "cell_type": "code",
   "execution_count": null,
   "metadata": {},
   "outputs": [],
   "source": [
    "#x = sp.Symbol('x')\n",
    "#fs = sep_asinh.f(x, be=be)\n",
    "#fs"
   ]
  },
  {
   "cell_type": "code",
   "execution_count": null,
   "metadata": {},
   "outputs": [],
   "source": [
    "#def massage(expr):\n",
    "#    return (expr.factor()/192).simplify().subs({1.0: 1})\n",
    "#fps = sep_asinh.df(x, be=be)\n",
    "#massage(fps)\n",
    "#fps"
   ]
  },
  {
   "cell_type": "code",
   "execution_count": null,
   "metadata": {},
   "outputs": [],
   "source": [
    "#fsd = fs.diff(x)\n",
    "#massage(fsd)\n",
    "#fsd"
   ]
  },
  {
   "cell_type": "code",
   "execution_count": null,
   "metadata": {},
   "outputs": [],
   "source": [
    "#(fps - fsd).rewrite(sp.exp).simplify()"
   ]
  },
  {
   "cell_type": "markdown",
   "metadata": {},
   "source": [
    "<pre>\n",
    "fig, all_axes = plt.subplots(2, 2, figsize=(14,8))\n",
    "for log, axes in zip([False, True], all_axes):\n",
    "    sep_asinh.log = log\n",
    "    #if log:\n",
    "    #    xplt = np.linspace(0, 1, 500)\n",
    "    #else:\n",
    "    xplt = 10.0**np.linspace(-5, 0, 500)\n",
    "    fx = [sep_asinh.f(x) for x in xplt]\n",
    "    dfx = np.diff(fx)\n",
    "    dx = np.diff(xplt)\n",
    "    axes[0].plot(xplt, fx, label=\"f(x)\")\n",
    "    xplt2 = xplt[:-1]+0.5*dx\n",
    "    dfdx_num = dfx/dx\n",
    "    axes[0].plot(xplt2, dfdx_num, ls='--', label=\"f'(x) finite diff\")\n",
    "    if log:\n",
    "        axes[0].plot(xplt2, [sep_asinh.df(x2) for x2 in xplt2], label=\"f'(x)\")\n",
    "        #for ax in axes:\n",
    "        #    ax.set_yscale('symlog')\n",
    "    else:\n",
    "        axes[0].plot(xplt, [sep_asinh.df(1e-200 + (1-3e-16)*x) for x in xplt], label=\"f'(x)\")\n",
    "    axes[0].legend()\n",
    "    axes[1].plot(xplt2, [sep_asinh.df(x2) for x2 in xplt2] - dfdx_num)\n",
    "</pre>"
   ]
  },
  {
   "cell_type": "code",
   "execution_count": null,
   "metadata": {},
   "outputs": [],
   "source": [
    "class LowerBoundsCalcBase:\n",
    "    def __init__(self, net, Kv):\n",
    "        self.net = net.tolist()\n",
    "        self.Kv = Kv\n",
    "        for row in self.net[1:]:\n",
    "            assert len(row) == self.ns\n",
    "        assert len(Kv) == self.ne\n",
    "\n",
    "    @property\n",
    "    def ne(self):\n",
    "        return len(self.net)\n",
    "    \n",
    "    @property\n",
    "    def ns(self):\n",
    "        return len(self.net[0])"
   ]
  },
  {
   "cell_type": "code",
   "execution_count": null,
   "metadata": {},
   "outputs": [],
   "source": [
    "print('Primary data')\n",
    "print('============')\n",
    "print('\\n'.join(eq.string(with_param=True) for eq in equilibria[:-3]))\n",
    "print(\"\")\n",
    "print('ic:'+' '.join(map(\"{0:11.4g}\".format, ic12)))\n",
    "print(\"\\n\\n\")\n",
    "print(\"Derived data\")\n",
    "print(\"============\\n\")\n",
    "print_mat(net.tolist(), empty_zeros=True)\n",
    "print(\"-\"*146)\n",
    "print_mat(pnsr.tolist(), empty_zeros=True)\n",
    "print(\"-\"*146)\n",
    "print('ub:'+' '.join(map(\"{0:11.4g}\".format, ub)))"
   ]
  },
  {
   "cell_type": "code",
   "execution_count": null,
   "metadata": {},
   "outputs": [],
   "source": [
    "def walk_graph(ri, ci, *, eqs, level):\n",
    "    to_walk = []  # breath first\n",
    "    for i in range(12):\n",
    "        if i == ci:\n",
    "            continue\n",
    "        if net[ri, i] == 0:\n",
    "            continue\n",
    "        is_reactant = eqs[ri][1]\n",
    "        opposite_sign = is_reactant ^ (net[ri, i] < 0)\n",
    "        for j in range(8):\n",
    "            if net[j, i] == 0:\n",
    "                continue\n",
    "            if j in eqs and eqs[j][0] <= level:\n",
    "                continue\n",
    "            eqs[j] = (level, opposite_sign ^ (net[i, j] < 0))\n",
    "            to_walk.append((j, i))\n",
    "    for j, i in to_walk:\n",
    "        walk_graph(j, i, eqs=eqs, level=level+1)\n",
    "\n",
    "from collections import defaultdict\n",
    "\n",
    "all_contribs = []\n",
    "for ci in range(12):\n",
    "    contribs = []\n",
    "    level = 0\n",
    "    eqs = {}\n",
    "    for ri in range(8):\n",
    "        if net[ri, ci] == 0:\n",
    "            continue\n",
    "        is_reactant = net[ri, ci] < 0\n",
    "        eqs[ri] = (0, is_reactant)\n",
    "        walk_graph(ri, ci, eqs=eqs, level=level+1)\n",
    "    all_contribs.append(eqs)\n",
    "all_contribs"
   ]
  },
  {
   "cell_type": "code",
   "execution_count": null,
   "metadata": {},
   "outputs": [],
   "source": []
  },
  {
   "cell_type": "code",
   "execution_count": null,
   "metadata": {},
   "outputs": [],
   "source": [
    "print_mat(mmag5.tolist(), empty_zeros=True)"
   ]
  },
  {
   "cell_type": "code",
   "execution_count": null,
   "metadata": {},
   "outputs": [],
   "source": [
    "class LowerBoundsCalcInvar(LowerBoundsCalcBase):    \n",
    "    def calc(self):\n",
    "        for si in range(self.ns):\n",
    "            #Kvals_subproblem = [float('inf')] * self.ne\n",
    "            sub_problem_rows = []\n",
    "            for ei, row in enumerate(self.net):\n",
    "                if row[si] < -1e-10:\n",
    "                    # consumed\n",
    "                    sub_problem.append(row)\n",
    "                if row[si] > 1e-10:\n",
    "                    #produced\n",
    "                    pass\n",
    "                \n",
    "\n",
    "    def __init__(self, *, net, Kv, pos_linvar, ics):\n",
    "        super().__init__(net=net, Kv=Kv); del net; del Kv\n",
    "        self.pos_linvar = pos_linvar.tolist()\n",
    "        assert(len(self.pos_linvar) == self.ns - self.ne)\n",
    "        for row in self.pos_linvar:\n",
    "            assert len(row) == self.ns\n",
    "        self.iv0 = pos_linvar @ ics\n",
    "        assert(len(self.invar0) == len(self.pos_linvar))\n",
    "        for iv in self.invar0:\n",
    "            assert iv >= 0\n",
    "                \n"
   ]
  },
  {
   "cell_type": "code",
   "execution_count": null,
   "metadata": {},
   "outputs": [],
   "source": [
    "class LowerBoundCalcIter(LowerBoundsCalcBase):\n",
    "    def __init__(self, *, net, Kv, ub, guess=None, niter=None\n",
    "                #,lb=None\n",
    "                ):\n",
    "        super().__init__(net=net, Kv=Kv); del net; del Kv\n",
    "        #if lb is None:\n",
    "        self.lb = np.zeros(self.ns)\n",
    "        #else:\n",
    "        #    self.lb = lb\n",
    "        assert len(self.lb) == self.ns\n",
    "        self.ub = np.asarray(ub)\n",
    "        assert np.all(self.ub > 0)\n",
    "        assert np.all(self.lb < self.ub)\n",
    "        self.niter = niter or []\n",
    "        self.guess = guess or [None]*self.ns\n",
    "        self.guess_is_log = False\n",
    "\n",
    "    def iterate(self, log=False):\n",
    "        consumptions = [[] for _ in range(self.ns)]\n",
    "        niter = 0\n",
    "        for ci in range(self.ns):\n",
    "            for ei, row in enumerate(self.net):\n",
    "                c = row[ci]\n",
    "                if c < -1e-10:  # reactant\n",
    "                    print(ci, ei)\n",
    "                    seqp = SingleEqProblemAsinh(row, ci=ci, lb=self.lb, ub=self.ub, K=self.Kv[ei], log=log)\n",
    "                    g = self.guess[ei]\n",
    "                    if g is not None and (self.guess_is_log ^ log):\n",
    "                        g = (seqp.y if log else seqp.x)(g)\n",
    "                    res = seqp.solve(guess=g)\n",
    "                    self.guess[ei] = res.x\n",
    "                    niter += res.niter\n",
    "                    if log:\n",
    "                        x = seqp.x(res.x)\n",
    "                    else:\n",
    "                        x = res.x\n",
    "                    consumptions[ci].append(-c*x)\n",
    "                if c > 1e-10:  # product\n",
    "                    print(ci, ei)\n",
    "                    seqp = SingleEqProblemAsinh([-re for re in row], ci=ci, lb=self.lb, ub=self.ub, K=1/self.Kv[ei], log=log)\n",
    "                    g = self.guess[ei]\n",
    "                    if g is not None and (self.guess_is_log ^ log):\n",
    "                        g = (seqp.y if log else seqp.x)(g)\n",
    "                    res = seqp.solve(guess=g)\n",
    "                    self.guess[ei] = res.x\n",
    "                    niter += res.niter\n",
    "                    if log:\n",
    "                        x = seqp.x(res.x)\n",
    "                    else:\n",
    "                        x = res.x\n",
    "                    consumptions[ci].append(c*x)\n",
    "        self.guess_is_log = log\n",
    "        print(consumptions)\n",
    "        result = [uu-sum(terms) for uu, terms in zip(ub, consumptions)]\n",
    "        self.lb = np.clip(result, 0, self.ub)\n",
    "        self.niter.append(niter)\n",
    "        return result"
   ]
  },
  {
   "cell_type": "code",
   "execution_count": null,
   "metadata": {},
   "outputs": [],
   "source": [
    "Kvals = [eq.param for eq in equilibria[:8]]\n",
    "lbc = LowerBoundCalcIter(net=net, ub=ub, Kv=Kvals)\n",
    "lbc.iterate(log=True)"
   ]
  },
  {
   "cell_type": "code",
   "execution_count": null,
   "metadata": {},
   "outputs": [],
   "source": [
    "print(lbc.niter, '\\n', dict(zip(substance_names[:-3], lbc.lb)))"
   ]
  },
  {
   "cell_type": "code",
   "execution_count": null,
   "metadata": {},
   "outputs": [],
   "source": [
    "lb_old = lbc.lb\n",
    "lbc.iterate(log=False)"
   ]
  },
  {
   "cell_type": "code",
   "execution_count": null,
   "metadata": {},
   "outputs": [],
   "source": [
    "print(lbc.niter, '\\n', dict(zip(substance_names[:-3], lbc.lb)), lbc.lb - lb_old)"
   ]
  },
  {
   "cell_type": "code",
   "execution_count": null,
   "metadata": {},
   "outputs": [],
   "source": [
    "lb_old = lbc.lb\n",
    "lbc.iterate(log=True)"
   ]
  },
  {
   "cell_type": "code",
   "execution_count": null,
   "metadata": {},
   "outputs": [],
   "source": [
    "print(lbc.niter, '\\n', dict(zip(substance_names[:-3], lbc.lb)), lbc.lb - lb_old)"
   ]
  },
  {
   "cell_type": "code",
   "execution_count": null,
   "metadata": {},
   "outputs": [],
   "source": [
    "lb_old = lbc.lb\n",
    "lbc.iterate(log=True)"
   ]
  },
  {
   "cell_type": "code",
   "execution_count": null,
   "metadata": {},
   "outputs": [],
   "source": [
    "print(lbc.niter, '\\n', dict(zip(substance_names[:-3], lbc.lb)), lbc.lb - lb_old)"
   ]
  },
  {
   "cell_type": "code",
   "execution_count": null,
   "metadata": {},
   "outputs": [],
   "source": [
    "Kvals = [eq.param for eq in equilibria[:8]]\n",
    "def calc_lb(lb, ub, K):\n",
    "    lb0 = lb.copy()\n",
    "    for ri, row in enumerate(net.tolist()):\n",
    "        for ci, coeff in enumerate(row):\n",
    "            if coeff == 0:\n",
    "                continue\n",
    "            #g = guess.copy()\n",
    "            Q = 1\n",
    "            if coeff < -1e-10:  # reactant\n",
    "                for ii, cc in enumerate(row):\n",
    "                    if -1e-10 < cc < 1e-10:\n",
    "                        continue\n",
    "                    if ii == ci:\n",
    "                        continue\n",
    "                    if cc < 0:\n",
    "                        Q *= lb0[ii]**cc\n",
    "                    else:\n",
    "                        Q *= ub[ii]**cc\n",
    "                lb[ci] = min(lb[ci], (Q/Kvals[ri])**(1.0/-coeff))\n",
    "            else:  # product\n",
    "                if coeff < 0:\n",
    "                    coeff = 0\n",
    "                for ii, cc in enumerate(row):\n",
    "                    if -1e-10 < cc < 1e-10:\n",
    "                        continue\n",
    "                    if ii == ci:\n",
    "                        continue\n",
    "                    if cc < 0:\n",
    "                        Q *= ub[ii]**cc\n",
    "                    else:\n",
    "                        Q *= lb0[ii]**cc\n",
    "                lb[ci] = min(lb[ci], (Kvals[ri]/Q)**(1.0/coeff))\n",
    "    return lb"
   ]
  },
  {
   "cell_type": "code",
   "execution_count": null,
   "metadata": {},
   "outputs": [],
   "source": [
    "lb0 = ub.copy()\n",
    "lb1 = calc_lb(lb0, ub, Kvals)\n",
    "print(lb1)"
   ]
  },
  {
   "cell_type": "code",
   "execution_count": null,
   "metadata": {},
   "outputs": [],
   "source": [
    "lb2 = calc_lb(lb1, ub, Kvals)\n",
    "print(lb2)"
   ]
  },
  {
   "cell_type": "markdown",
   "metadata": {},
   "source": [
    "### NumEqSys"
   ]
  },
  {
   "cell_type": "code",
   "execution_count": null,
   "metadata": {},
   "outputs": [],
   "source": [
    "show(', '.join([s.latex_name for s in substances]))\n",
    "show('~')\n",
    "from math import log10\n",
    "for i, eq in enumerate(equilibria):\n",
    "    ltx = eq.latex(dict(zip(substance_names, substances)))\n",
    "    show(str(i+1) + \":~~\" + ltx + '~'*(80-len(ltx)) + 'lgK = {0:12.5g}'.format(log10(eq.param)))  # latex table would be better..."
   ]
  },
  {
   "cell_type": "markdown",
   "metadata": {},
   "source": [
    "To keep our numerical treatment as simple as possible we will try to avoid representing\n",
    "$Cu(OH)_2(s)$ explicitly (which is present in the three last equilibria). This is becuase the\n",
    "system of equations change when precipitation sets in.\n",
    "\n",
    "However, we do want to keep the two last equilibria, therefore we rewrite\n",
    "those using the dissolution equilibria them only using dissolved species:"
   ]
  },
  {
   "cell_type": "code",
   "execution_count": null,
   "metadata": {},
   "outputs": [],
   "source": [
    "new_eqs = CuOH2_s - CuOH_B3, CuOH2_s - CuOH_B4\n",
    "[str(_) for _ in new_eqs]"
   ]
  },
  {
   "cell_type": "markdown",
   "metadata": {},
   "source": [
    "Now it's time to exclude the precipitate species and replace the last three equilibria with our two new ones:"
   ]
  },
  {
   "cell_type": "code",
   "execution_count": null,
   "metadata": {},
   "outputs": [],
   "source": [
    "#skip_subs, skip_eq = (4, 4) # (0, 0), (1, 1), (3, 3), (4, 4), (11, 9)\n",
    "#skip_subs, skip_eq = (1, 3)\n",
    "skip_subs, skip_eq = (3, 3)\n",
    "simpl_subs = substances[:-skip_subs]\n",
    "simpl_eq = equilibria[:-skip_eq] # + new_eqs\n",
    "simpl_c0 = {k.name: init_conc[k.name] for k in simpl_subs}"
   ]
  },
  {
   "cell_type": "markdown",
   "metadata": {},
   "source": [
    "From the law of mass action we can from the equilbria and from the preservation of mass and charge formulate a non-linear system of equations:"
   ]
  },
  {
   "cell_type": "code",
   "execution_count": null,
   "metadata": {},
   "outputs": [],
   "source": []
  },
  {
   "cell_type": "code",
   "execution_count": null,
   "metadata": {},
   "outputs": [],
   "source": [
    "import sympy as sp\n",
    "import numpy as np\n",
    "sp.init_printing()\n",
    "eqsys = EqSystem(simpl_eq, simpl_subs)\n",
    "x, i, Ks = sp.symarray('x', eqsys.ns), sp.symarray('i', eqsys.ns), sp.symarray('K', eqsys.nr)\n",
    "correct_debye_huckel_extended = False\n",
    "params = np.concatenate((i, [K*(\n",
    "    eq.Kcorr_activity(\n",
    "        molalities=dict(zip(eqsys.substances, x)),\n",
    "        substances=eqsys.substances,\n",
    "        kw=dict(\n",
    "            eps_r=80.1,\n",
    "            rho=998*u.kg/u.m3,\n",
    "            T=298.15*u.K,\n",
    "            units=u,\n",
    "            backend=sp\n",
    "        )).replace(\n",
    "    lambda e: isinstance(e, sp.ImmutableDenseNDimArray) and e.shape == (),\n",
    "    lambda e: e.args[0].args[0]\n",
    ") if correct_debye_huckel_extended else 1) for K, eq in zip(Ks, eqsys.rxns)]))\n",
    "params"
   ]
  },
  {
   "cell_type": "markdown",
   "metadata": {},
   "source": [
    "<font color='gray'>*double click to view code for generating a graph*</font>\n",
    "<!--\n",
    "from IPython.display import Image\n",
    "from chempy.util.graph import rsys2graph\n",
    "from itertools import chain\n",
    "from chempy import ReactionSystem\n",
    "rsys8_12 = ReactionSystem(chain(*[eq.as_reactions(kb=1) for eq in equilibria[:8]]), substances[:12])\n",
    "rsys2graph(rsys8_12, 'ammonical_cupric.png', save='.', include_inactive=False)\n",
    "Image('ammonical_cupric.png')\n",
    "-->"
   ]
  },
  {
   "cell_type": "code",
   "execution_count": null,
   "metadata": {},
   "outputs": [],
   "source": [
    "numsys_lin = NumSysLin(eqsys, backend=sp)\n",
    "f = numsys_lin.f(x, params)\n",
    "f # print(f)"
   ]
  },
  {
   "cell_type": "code",
   "execution_count": null,
   "metadata": {},
   "outputs": [],
   "source": []
  },
  {
   "cell_type": "markdown",
   "metadata": {},
   "source": [
    "It turns out that the success of the numerical root finding process for above system of equations is terribly sensitive on the choice of the initial guess. We therefore reformulate the equations in terms of the logarithm of the concentrations:"
   ]
  },
  {
   "cell_type": "code",
   "execution_count": null,
   "metadata": {},
   "outputs": [],
   "source": [
    "numsys_log = NumSysLog(eqsys, backend=sp)\n",
    "f = numsys_log.f(x, params)\n",
    "f"
   ]
  },
  {
   "cell_type": "markdown",
   "metadata": {},
   "source": [
    "We can take a peek on the jacobian of this vector:"
   ]
  },
  {
   "cell_type": "code",
   "execution_count": null,
   "metadata": {},
   "outputs": [],
   "source": [
    "def spy(j):\n",
    "    print('\\n'.join(' '.join([' #'[int(e != 0)] for e in row]) for row in j.tolist()))\n",
    "j=sp.Matrix(1, len(f), lambda _, q: f[q]).jacobian(x)\n",
    "spy(j)"
   ]
  },
  {
   "cell_type": "markdown",
   "metadata": {},
   "source": [
    "The preservation equations of mass and charge actually contain a redundant equation, so currently our system is over-determined:"
   ]
  },
  {
   "cell_type": "code",
   "execution_count": null,
   "metadata": {},
   "outputs": [],
   "source": [
    "len(f), eqsys.ns"
   ]
  },
  {
   "cell_type": "markdown",
   "metadata": {},
   "source": [
    "We could cast the preservation equations into [reduced row echelon form](https://en.wikipedia.org/wiki/Row_echelon_form) (which would remove one equation), but for now we'll leave this be and rely on the Levenberg-Marquardt algorithm to solve our problem in a least-squares sense. (Levenberg-Marquardt uses [QR-decomposition](https://en.wikipedia.org/wiki/QR_decomposition) internally for which it is acceptable to have overdetermined systems).\n",
    "\n",
    "Let's solve the equations for our inital concentrations:"
   ]
  },
  {
   "cell_type": "code",
   "execution_count": null,
   "metadata": {},
   "outputs": [],
   "source": [
    "C, sol, sane = eqsys.root(simpl_c0, NumSys=NumSysLog)\n",
    "assert sol['success'] and sane\n",
    "C"
   ]
  },
  {
   "cell_type": "markdown",
   "metadata": {},
   "source": [
    "Great, let's now vary the initial concentration of $NH_3$ and plot the equilibrium concentrations of our species:"
   ]
  },
  {
   "cell_type": "code",
   "execution_count": null,
   "metadata": {},
   "outputs": [],
   "source": [
    "import numpy as np\n",
    "plt.figure(figsize=(20,8))\n",
    "NH3_varied = np.logspace(-4, 0, 200)\n",
    "Cout_logC, extra, success = eqsys.roots(\n",
    "    simpl_c0, NH3_varied, 'NH3', NumSys=NumSysLog, plot_kwargs={'latex_names': True})\n",
    "all(success), sum([nfo['nfev'] for nfo in extra['info']]), sum([nfo['njev'] for nfo in extra['info']])\n",
    "_ = plt.gca().set_ylim([1e-10, 60])"
   ]
  },
  {
   "cell_type": "markdown",
   "metadata": {},
   "source": [
    "But the above diagram is only true if we are below the solubility limit of our neglected $\\rm Cu(OH)_2(s)$.\n",
    "\n",
    "Let's plot the solubility product in the same diagram:"
   ]
  },
  {
   "cell_type": "code",
   "execution_count": null,
   "metadata": {},
   "outputs": [],
   "source": [
    "sol_prod = Cout_logC[:, eqsys.as_substance_index('Cu+2')]*Cout_logC[:, eqsys.as_substance_index('OH-')]**2\n",
    "plt.figure(figsize=(20,6))\n",
    "plt.loglog(NH3_varied, sol_prod, label='[$%s$][$%s$]$^2$' % (eqsys.substances['Cu+2'].latex_name,\n",
    "                                                             eqsys.substances['OH-'].latex_name))\n",
    "plt.loglog(NH3_varied, Cout_logC[:, eqsys.as_substance_index('H+')], ls=':',\n",
    "           label='[$%s$]' % eqsys.substances['H+'].latex_name)\n",
    "plt.loglog([NH3_varied[0], NH3_varied[-1]], [10**-18.8, 10**-18.8], 'k--', label='$K_{sp}(Cu(OH)_2(s))$')\n",
    "plt.xlabel('[$NH_3$]')\n",
    "_ = plt.legend()"
   ]
  },
  {
   "cell_type": "markdown",
   "metadata": {},
   "source": [
    "We see that for a ammonia concentration exceeding ~500-600 mM we would not precipitate $Cu(OH)_2(s)$ even though our pH is quite high (almost 12).\n",
    "\n",
    "We have solved the above system of equations for the *logarithm* of the concentrations. How big are our absolute and relative errors compared to the linear system? Let's plot them:"
   ]
  },
  {
   "cell_type": "code",
   "execution_count": null,
   "metadata": {},
   "outputs": [],
   "source": [
    "fig, axes = plt.subplots(1, 2, figsize=(20, 8))\n",
    "eqsys.plot_errors(Cout_logC, simpl_c0, NH3_varied, 'NH3', axes=axes)"
   ]
  },
  {
   "cell_type": "markdown",
   "metadata": {},
   "source": [
    "Not bad. So the problem is essentially solved. But let's say that it is very important to know the exact position of the intersection for the solutbility limit. We can locate it using the secant method:"
   ]
  },
  {
   "cell_type": "code",
   "execution_count": null,
   "metadata": {},
   "outputs": [],
   "source": [
    "from scipy.optimize import newton\n",
    "convergence = []\n",
    "def sol_lim(c_NH3):\n",
    "    c0 = simpl_c0.copy()\n",
    "    c0['NH3'] = c_NH3\n",
    "    C, sol, sane = eqsys.root(c0, NumSys=NumSysLog)\n",
    "    assert sol['success'] and sane\n",
    "    prod = C[eqsys.as_substance_index('Cu+2')]*C[eqsys.as_substance_index('OH-')]**2\n",
    "    discrepancy = prod/10**-18.8 - 1\n",
    "    convergence.append(discrepancy)\n",
    "    return discrepancy\n",
    "Climit_NH3 = newton(sol_lim, 0.5)\n",
    "convergence = np.array(convergence).reshape((len(convergence), 1))\n",
    "print(convergence)\n",
    "Climit_NH3"
   ]
  },
  {
   "cell_type": "markdown",
   "metadata": {},
   "source": [
    "For fun, let's see what the equation system looks like if we canonicalize it by transforming the equations for equibliria and the equations for the preservation relations to their respective reduced row echelon form:"
   ]
  },
  {
   "cell_type": "code",
   "execution_count": null,
   "metadata": {},
   "outputs": [],
   "source": [
    "len(x)"
   ]
  },
  {
   "cell_type": "code",
   "execution_count": null,
   "metadata": {},
   "outputs": [],
   "source": [
    "numsys_log_rref = NumSysLog(eqsys, rref_equil=True, rref_preserv=True, backend=sp)\n",
    "rf = numsys_log_rref.f(x, params)\n",
    "rf"
   ]
  },
  {
   "cell_type": "code",
   "execution_count": null,
   "metadata": {},
   "outputs": [],
   "source": [
    "len(eqsys.params()), len(Ks)"
   ]
  },
  {
   "cell_type": "code",
   "execution_count": null,
   "metadata": {},
   "outputs": [],
   "source": [
    "len(rf)"
   ]
  },
  {
   "cell_type": "code",
   "execution_count": null,
   "metadata": {},
   "outputs": [],
   "source": [
    "sp.Symbol('x') == sp.Symbol('x', nonnegative=True)"
   ]
  },
  {
   "cell_type": "code",
   "execution_count": null,
   "metadata": {},
   "outputs": [],
   "source": [
    "fx = NumSysLin(eqsys, rref_equil=True, rref_preserv=True, backend=sp).f(x, params)\n",
    "fx"
   ]
  },
  {
   "cell_type": "markdown",
   "metadata": {},
   "source": [
    "<!-- sp.Matrix(1, len(fx), lambda _, q: fx[q]).jacobian(x) -->"
   ]
  },
  {
   "cell_type": "code",
   "execution_count": null,
   "metadata": {},
   "outputs": [],
   "source": [
    "NumSysLin(eqsys, rref_equil=False, rref_preserv=True, backend=sp).f(x, params)"
   ]
  },
  {
   "cell_type": "code",
   "execution_count": null,
   "metadata": {},
   "outputs": [],
   "source": [
    "from operator import mul\n",
    "from aq_radiolysis.sym_util import safe_div\n",
    "\n",
    "def exportable(*, log, rref_equil=True, max_small=False, wrap=False):\n",
    "    if log:\n",
    "        def fmt_i(i):\n",
    "            return f\"log(i{i})\"\n",
    "        objectives = NumSysLog(eqsys, rref_equil=rref_equil, rref_preserv=True, backend=sp).f(x, params)\n",
    "    else:\n",
    "        def fmt_i(i):\n",
    "            return f\"i{i}\"\n",
    "        objectives = NumSysLin(eqsys, rref_equil=rref_equil, rref_preserv=True, backend=sp).f(x, params)\n",
    "        \n",
    "        def no_denom(e):\n",
    "            assert e.is_Add\n",
    "            mult_by = []\n",
    "            def remove_denom(d):\n",
    "                mult_by.append(1/d)\n",
    "                return d\n",
    "            e2 = e.replace(lambda fact: fact.is_Pow and fact.exp < 0, remove_denom)\n",
    "            return (e2*reduce(mul, [1] + mult_by)).expand().factor()\n",
    "            \n",
    "        objectives = list(map(no_denom, objectives))\n",
    "        \n",
    "    small1 = sp.Symbol(\"small1\")\n",
    "    small2 = sp.Symbol(\"small2\")\n",
    "    \n",
    "    if max_small:\n",
    "        modified = [e.replace(lambda e: e.is_Mul, safe_div) for e in objectives]\n",
    "    else:\n",
    "        modified = objectives\n",
    "\n",
    "    if wrap:\n",
    "        subs = dict(zip(x, map(lambda arg: sympy.Max(arg, small2), x)))\n",
    "        modified = [e.xreplace(subs) for e in modified]\n",
    "        \n",
    "    def stringify(e):\n",
    "        return str(e).replace('**', '^').replace('x_', 'x').replace(\"Max\", \"max\").replace('i_', 'i')\n",
    "\n",
    "    \n",
    "    s = []\n",
    "    s += [f\"x{i}\\t{m}\\t{fmt_i(i)}\\t0\\t{s.name}\" for i, (s, m) in enumerate(zip(simpl_subs, map(stringify, modified)))]\n",
    "    s += [\"\", \"small1\\t1e-70\", \"small2\\t1e-90\"]\n",
    "    s += [f\"i{i}\\t{init_conc[k.name] or small2}\\t\\t{s.name}\" for i, (k, s) in enumerate(zip(simpl_subs, simpl_subs))]\n",
    "    s += [f\"{k}\\t{v}\" for k, v in zip(Ks, eqsys.params())]\n",
    "    s += [\"\"]\n",
    "    \n",
    "    if not log:\n",
    "        s += [\" \".join(f\"comp1.x{i} 0\" for i in range(len(simpl_subs)))]\n",
    "    return \"\\n\".join(s)\n",
    "\n",
    "print(exportable(log=True))"
   ]
  },
  {
   "cell_type": "code",
   "execution_count": null,
   "metadata": {},
   "outputs": [],
   "source": [
    "print(exportable(log=False, max_small=True, wrap=False, rref_equil=False))"
   ]
  },
  {
   "cell_type": "code",
   "execution_count": null,
   "metadata": {},
   "outputs": [],
   "source": [
    "print(exportable(log=False, max_small=True))"
   ]
  },
  {
   "cell_type": "code",
   "execution_count": null,
   "metadata": {},
   "outputs": [],
   "source": [
    "print(exportable(log=False))"
   ]
  },
  {
   "cell_type": "markdown",
   "metadata": {},
   "source": [
    "So the Jacobian should be considerably more diagonally dominant now:"
   ]
  },
  {
   "cell_type": "code",
   "execution_count": null,
   "metadata": {},
   "outputs": [],
   "source": [
    "j = sp.Matrix(1, len(rf), lambda _, q: rf[q]).jacobian(x)\n",
    "spy(j)"
   ]
  },
  {
   "cell_type": "code",
   "execution_count": null,
   "metadata": {},
   "outputs": [],
   "source": [
    "j.rows, j.cols"
   ]
  },
  {
   "cell_type": "markdown",
   "metadata": {},
   "source": [
    "<!--\n",
    "j = sp.Matrix(1, len(rf), lambda _, q: rf[q]).jacobian(x)\n",
    "piv = []\n",
    "for ir in range(j.rows):\n",
    "    if j[ir, ir] != 0:\n",
    "        piv.append(ir)\n",
    "        continue\n",
    "    for ir2 in range(ir+1, j.rows):\n",
    "        if j[ir2, ir] != 0:\n",
    "            piv.append(ir2)\n",
    "            j.row_swap(ir, ir2)\n",
    "            break\n",
    "    else:\n",
    "        raise ValueError(\"No pivot found\")\n",
    "j\n",
    "-->"
   ]
  },
  {
   "cell_type": "markdown",
   "metadata": {},
   "source": [
    "<!--\n",
    "permute = list(range(len(piv)))\n",
    "for i, j in enumerate(piv):\n",
    "    tmp = permute[i]\n",
    "    permute[i] = permute[j]\n",
    "    permute[j] = tmp\n",
    "permute\n",
    "-->"
   ]
  },
  {
   "cell_type": "markdown",
   "metadata": {},
   "source": [
    "And let's see if this system converges as well:"
   ]
  },
  {
   "cell_type": "code",
   "execution_count": null,
   "metadata": {},
   "outputs": [],
   "source": [
    "plt.figure(figsize=(20,8))\n",
    "out = eqsys.roots(simpl_c0, NH3_varied, 'NH3', \n",
    "                  rref_preserv=True, \n",
    "                  #rref_equil=True,\n",
    "                  #NumSys=NumSysLog,\n",
    "                  rref_equil=False,\n",
    "                  NumSys=NumSysLin,\n",
    "                  plot_kwargs={'latex_names': True})\n",
    "_ = plt.gca().set_ylim([1e-10, 60])"
   ]
  },
  {
   "cell_type": "markdown",
   "metadata": {},
   "source": [
    "Sinvce version 0.2.0 of chempy there is support for automatic reformulation of the system of equations when precipitation occurs:"
   ]
  },
  {
   "cell_type": "code",
   "execution_count": null,
   "metadata": {},
   "outputs": [],
   "source": [
    "full_eqsys = EqSystem(equilibria[:-2] + new_eqs, substances)\n",
    "full_numsys_log_rref = NumSysLog(full_eqsys, rref_equil=False, rref_preserv=False, precipitates=[False], backend=sp)\n",
    "full_x, full_i, full_Ks = sp.symarray('x', full_eqsys.ns), sp.symarray('i', full_eqsys.ns), sp.symarray('K', full_eqsys.nr)\n",
    "full_rf = full_numsys_log_rref.f(full_x, np.concatenate((full_i, full_Ks)))\n",
    "full_rf"
   ]
  },
  {
   "cell_type": "code",
   "execution_count": null,
   "metadata": {},
   "outputs": [],
   "source": [
    "def solve_and_plot_full(NumSys, plot_kwargs={'latex_names': True}, **kwargs):\n",
    "    plt.figure(figsize=(18, 7))\n",
    "    result = full_eqsys.roots(init_conc, NH3_varied, 'NH3', NumSys=NumSys, plot_kwargs=plot_kwargs or {}, **kwargs)\n",
    "    \n",
    "    try:\n",
    "        cur_val = None\n",
    "        for idx, condition in enumerate([nfo['intermediate_info'][0]['conditions'] for nfo in result[1]['info']]):\n",
    "            any_precip = condition != (False,)*len(condition)\n",
    "            if cur_val is None:\n",
    "                if any_precip:\n",
    "                    onset = idx\n",
    "            elif cur_val == any_precip:\n",
    "                pass\n",
    "            else:\n",
    "                if any_precip:\n",
    "                    onset = idx\n",
    "                else:\n",
    "                    plt.axvspan(NH3_varied[onset], NH3_varied[idx], facecolor='gray', alpha=0.1)\n",
    "                    onset = None\n",
    "            cur_val = any_precip\n",
    "        if onset is not None:\n",
    "            plt.axvspan(NH3_varied[onset], NH3_varied[-1], facecolor='gray', alpha=0.1)\n",
    "    except KeyError:\n",
    "        pass\n",
    "    return result"
   ]
  },
  {
   "cell_type": "code",
   "execution_count": null,
   "metadata": {},
   "outputs": [],
   "source": [
    "xout_log, sols_log, sane_log = solve_and_plot_full(NumSysLog, solver='scipy', tol=1e-10, conditional_maxiter=30,\n",
    "                                                   rref_equil=True, rref_preserv=True, method='lm')\n",
    "plt.gca().set_ylim([1e-15, 60])\n",
    "plt.gca().set_xscale('log')\n",
    "plt.gca().set_yscale('log')"
   ]
  },
  {
   "cell_type": "markdown",
   "metadata": {},
   "source": [
    "We see that the numerical solution is not perfect (it could probably be improved by scaling the components individually). But the principle is clear: we can solve the solve non-linear system of equations using this method.\n",
    "\n",
    "Let's see if we can gain some more insight here:"
   ]
  },
  {
   "cell_type": "code",
   "execution_count": null,
   "metadata": {},
   "outputs": [],
   "source": [
    "def sum_species(x, species, substance_names, weights=None):\n",
    "    accum = np.zeros(x.shape[0])\n",
    "    if weights is None:\n",
    "        weights = [1]*len(substance_names)\n",
    "    for idx in map(substance_names.index, species):\n",
    "        accum += x[:, idx]*weights[idx]\n",
    "    return accum\n",
    "\n",
    "def plot_groups(varied, x):\n",
    "    substance_names = list(full_eqsys.substances.keys())\n",
    "    weights = [s.composition.get(atomic_number('Cu'), ) for s in full_eqsys.substances.values()]\n",
    "    amines = sum_species(x, NH3_complexes, substance_names, weights)\n",
    "    hydroxides = sum_species(x, OH_complexes, substance_names, weights)\n",
    "    free = sum_species(x, ['Cu+2'], substance_names, weights)\n",
    "    precip = sum_species(x, ['Cu(OH)2(s)'], substance_names, weights)\n",
    "    \n",
    "    tot = amines + hydroxides + free + precip\n",
    "\n",
    "    plt.figure(figsize=(13.7, 7))\n",
    "    plt.plot(NH3_varied, tot, label='tot')\n",
    "    plt.plot(NH3_varied, amines, label='amines')\n",
    "    plt.plot(NH3_varied, hydroxides, label='hydroxides')\n",
    "    plt.plot(NH3_varied, free, label='free')\n",
    "    plt.plot(NH3_varied, precip, label='precip')\n",
    "    plt.legend(loc='best')\n",
    "    plt.gca().set_xscale('log')\n",
    "\n",
    "plot_groups(NH3_varied, xout_log)"
   ]
  },
  {
   "cell_type": "markdown",
   "metadata": {},
   "source": [
    "Without any precipitates (we force the system to not precipitate any solids, applicable for short timescales for example):"
   ]
  },
  {
   "cell_type": "code",
   "execution_count": null,
   "metadata": {},
   "outputs": [],
   "source": [
    "xout_static, sols_static, sane_static = solve_and_plot_full(\n",
    "    NumSysLog, solver='scipy', tol=1e-12, # , NumSysSquare\n",
    "    neqsys_type='static_conditions',\n",
    "    rref_equil=True, rref_preserv=True,\n",
    "    precipitates=(False,), method='lm', plot_kwargs=None\n",
    ")\n",
    "plt.gca().set_xscale('log')\n",
    "plt.gca().set_yscale('log')\n",
    "plt.gca().set_ylim([1e-10, 60])\n",
    "\n",
    "plot_groups(NH3_varied, xout_static)"
   ]
  },
  {
   "cell_type": "code",
   "execution_count": null,
   "metadata": {},
   "outputs": [],
   "source": []
  }
 ],
 "metadata": {
  "kernelspec": {
   "display_name": "Python 3 (ipykernel)",
   "language": "python",
   "name": "python3"
  },
  "language_info": {
   "codemirror_mode": {
    "name": "ipython",
    "version": 3
   },
   "file_extension": ".py",
   "mimetype": "text/x-python",
   "name": "python",
   "nbconvert_exporter": "python",
   "pygments_lexer": "ipython3",
   "version": "3.12.8"
  }
 },
 "nbformat": 4,
 "nbformat_minor": 1
}
